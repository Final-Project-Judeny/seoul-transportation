{
  "metadata": {
    "kernelspec": {
      "name": "python",
      "display_name": "Python (Pyodide)",
      "language": "python"
    },
    "language_info": {
      "codemirror_mode": {
        "name": "python",
        "version": 3
      },
      "file_extension": ".py",
      "mimetype": "text/x-python",
      "name": "python",
      "nbconvert_exporter": "python",
      "pygments_lexer": "ipython3",
      "version": "3.8"
    }
  },
  "nbformat_minor": 4,
  "nbformat": 4,
  "cells": [
    {
      "cell_type": "code",
      "source": "import pandas as pd\nimport numpy as np\nimport random as r\nfrom datetime import datetime\nimport matplotlib.pyplot as plt\nfrom scipy.stats import skewnorm",
      "metadata": {
        "trusted": true
      },
      "outputs": [],
      "execution_count": 91
    },
    {
      "cell_type": "code",
      "source": "cf = pd.read_csv('cultural_facilities.csv')\nfss = pd.read_csv('festival_specifics.csv')\nfs = pd.read_csv('festivals.csv')\nls = pd.read_csv('leisure_sports.csv')\nrs = pd.read_csv('restaurants.csv')\nts = pd.read_csv('tourist_spots.csv')",
      "metadata": {
        "trusted": true
      },
      "outputs": [],
      "execution_count": 25
    },
    {
      "cell_type": "code",
      "source": "cf.info()",
      "metadata": {
        "trusted": true
      },
      "outputs": [
        {
          "name": "stdout",
          "text": "<class 'pandas.core.frame.DataFrame'>\nRangeIndex: 5244 entries, 0 to 5243\nData columns (total 27 columns):\n #   Column         Non-Null Count  Dtype  \n---  ------         --------------  -----  \n 0   addr1          5240 non-null   object \n 1   addr2          3218 non-null   object \n 2   areacode       5244 non-null   int64  \n 3   booktour       3872 non-null   float64\n 4   cat1           5244 non-null   object \n 5   cat2           5244 non-null   object \n 6   cat3           5244 non-null   object \n 7   contentid      5244 non-null   int64  \n 8   contenttypeid  5244 non-null   int64  \n 9   createdtime    5244 non-null   int64  \n 10  firstimage     4030 non-null   object \n 11  firstimage2    4030 non-null   object \n 12  cpyrhtDivCd    4030 non-null   object \n 13  mapx           5244 non-null   float64\n 14  mapy           5244 non-null   float64\n 15  mlevel         5243 non-null   float64\n 16  modifiedtime   5244 non-null   int64  \n 17  sigungucode    5244 non-null   int64  \n 18  tel            87 non-null     object \n 19  title          5244 non-null   object \n 20  zipcode        5240 non-null   object \n 21  area           5244 non-null   object \n 22  sigungu        5244 non-null   object \n 23  timestamp      5244 non-null   int64  \n 24  역사명            5244 non-null   object \n 25  호선             5244 non-null   object \n 26  거리             5244 non-null   float64\ndtypes: float64(5), int64(7), object(15)\nmemory usage: 799.0+ KB\n",
          "output_type": "stream"
        }
      ],
      "execution_count": 10
    },
    {
      "cell_type": "code",
      "source": "rs.info()",
      "metadata": {
        "trusted": true
      },
      "outputs": [
        {
          "name": "stdout",
          "text": "<class 'pandas.core.frame.DataFrame'>\nRangeIndex: 2795 entries, 0 to 2794\nData columns (total 10 columns):\n #   Column     Non-Null Count  Dtype  \n---  ------     --------------  -----  \n 0   timestamp  2795 non-null   object \n 1   station    2795 non-null   object \n 2   district   2795 non-null   object \n 3   name       2795 non-null   object \n 4   score      2795 non-null   object \n 5   category   2795 non-null   object \n 6   hashtag    2679 non-null   object \n 7   image      2342 non-null   object \n 8   loc_x      2795 non-null   float64\n 9   loc_y      2795 non-null   float64\ndtypes: float64(2), object(8)\nmemory usage: 131.1+ KB\n",
          "output_type": "stream"
        }
      ],
      "execution_count": 11
    },
    {
      "cell_type": "markdown",
      "source": "# 랜덤 함수들",
      "metadata": {}
    },
    {
      "cell_type": "markdown",
      "source": "참고링크<br>\nhttps://docs.python.org/ko/3/library/random.html",
      "metadata": {}
    },
    {
      "cell_type": "code",
      "source": "r.randint(0,10)",
      "metadata": {
        "trusted": true
      },
      "outputs": [
        {
          "execution_count": 73,
          "output_type": "execute_result",
          "data": {
            "text/plain": "9"
          },
          "metadata": {}
        }
      ],
      "execution_count": 73
    },
    {
      "cell_type": "code",
      "source": "round(r.uniform(0,10),1)",
      "metadata": {
        "trusted": true
      },
      "outputs": [
        {
          "execution_count": 74,
          "output_type": "execute_result",
          "data": {
            "text/plain": "2.0"
          },
          "metadata": {}
        }
      ],
      "execution_count": 74
    },
    {
      "cell_type": "code",
      "source": "r.sample([1,2,3], 2)",
      "metadata": {
        "trusted": true
      },
      "outputs": [
        {
          "execution_count": 75,
          "output_type": "execute_result",
          "data": {
            "text/plain": "[3, 2]"
          },
          "metadata": {}
        }
      ],
      "execution_count": 75
    },
    {
      "cell_type": "code",
      "source": "r.choice([1,2,3])",
      "metadata": {
        "trusted": true
      },
      "outputs": [
        {
          "execution_count": 76,
          "output_type": "execute_result",
          "data": {
            "text/plain": "3"
          },
          "metadata": {}
        }
      ],
      "execution_count": 76
    },
    {
      "cell_type": "markdown",
      "source": "# 리뷰 데이터셋 생성",
      "metadata": {}
    },
    {
      "cell_type": "markdown",
      "source": "참고링크<br>\nhttps://pandas.pydata.org/docs/reference/api/pandas.DataFrame.html",
      "metadata": {}
    },
    {
      "cell_type": "code",
      "source": "all_tour_id = pd.concat([cf, fs, ls, ts])['contentid'].unique().tolist()",
      "metadata": {
        "trusted": true
      },
      "outputs": [],
      "execution_count": 64
    },
    {
      "cell_type": "code",
      "source": "# 하루에 n개의 랜덤리뷰 -> TouristSpotID: 기존 데이터 contentid 중 랜덤, Score: 조정한 랜덤(25=기본), Timestamp: 리뷰생성일, UserID: 랜덤 (00000000)\nrandom.choice(all_tourist_spot_id)",
      "metadata": {
        "trusted": true
      },
      "outputs": [
        {
          "execution_count": 28,
          "output_type": "execute_result",
          "data": {
            "text/plain": "2767886"
          },
          "metadata": {}
        }
      ],
      "execution_count": 28
    },
    {
      "cell_type": "code",
      "source": "# df = pd.DataFrame(data, index, columns, dtype, copy)\n# 빈 df 생성\nreview = pd.DataFrame(columns=['UserID', 'TouristSpotID', 'Timestamp', 'Score'])",
      "metadata": {
        "trusted": true
      },
      "outputs": [],
      "execution_count": 207
    },
    {
      "cell_type": "code",
      "source": "review",
      "metadata": {
        "trusted": true
      },
      "outputs": [
        {
          "execution_count": 208,
          "output_type": "execute_result",
          "data": {
            "text/plain": "Empty DataFrame\nColumns: [UserID, TouristSpotID, Timestamp, Score]\nIndex: []",
            "text/html": "<div>\n<style scoped>\n    .dataframe tbody tr th:only-of-type {\n        vertical-align: middle;\n    }\n\n    .dataframe tbody tr th {\n        vertical-align: top;\n    }\n\n    .dataframe thead th {\n        text-align: right;\n    }\n</style>\n<table border=\"1\" class=\"dataframe\">\n  <thead>\n    <tr style=\"text-align: right;\">\n      <th></th>\n      <th>UserID</th>\n      <th>TouristSpotID</th>\n      <th>Timestamp</th>\n      <th>Score</th>\n    </tr>\n  </thead>\n  <tbody>\n  </tbody>\n</table>\n</div>"
          },
          "metadata": {}
        }
      ],
      "execution_count": 208
    },
    {
      "cell_type": "code",
      "source": "today_num_of_review = r.randint(300, 500)",
      "metadata": {
        "trusted": true
      },
      "outputs": [],
      "execution_count": 77
    },
    {
      "cell_type": "code",
      "source": "datetime.now().strftime('%Y%m%d%H%M%S')",
      "metadata": {
        "trusted": true
      },
      "outputs": [
        {
          "execution_count": 46,
          "output_type": "execute_result",
          "data": {
            "text/plain": "'20240731155405'"
          },
          "metadata": {}
        }
      ],
      "execution_count": 46
    },
    {
      "cell_type": "code",
      "source": "now = datetime.now()\nyear = now.year\nmonth = now.month\nday = now.day\nhour = r.randint(0, 24)\nminute = r.randint(0, 60)\nsecond = r.randint(0, 60)",
      "metadata": {
        "trusted": true
      },
      "outputs": [],
      "execution_count": 78
    },
    {
      "cell_type": "code",
      "source": "year, month, day, hour, minute, second",
      "metadata": {
        "trusted": true
      },
      "outputs": [
        {
          "execution_count": 79,
          "output_type": "execute_result",
          "data": {
            "text/plain": "(2024, 7, 31, 16, 36, 51)"
          },
          "metadata": {}
        }
      ],
      "execution_count": 79
    },
    {
      "cell_type": "code",
      "source": "a, loc, scale = 2, 50, 12\ndata = skewnorm(a, loc, scale).rvs(size=10000)\nplt.hist(data, bins=300)\nplt.show()",
      "metadata": {
        "trusted": true
      },
      "outputs": [
        {
          "output_type": "display_data",
          "data": {
            "text/plain": "<Figure size 640x480 with 1 Axes>",
            "image/png": "[encoded data removed]"
          },
          "metadata": {}
        }
      ],
      "execution_count": 174
    },
    {
      "cell_type": "code",
      "source": "test = skewnorm(a, loc, scale).rvs(1)[0]\ntest",
      "metadata": {
        "trusted": true
      },
      "outputs": [
        {
          "execution_count": 201,
          "output_type": "execute_result",
          "data": {
            "text/plain": "49.73016770017394"
          },
          "metadata": {}
        }
      ],
      "execution_count": 201
    },
    {
      "cell_type": "code",
      "source": "# 랜덤 리뷰 생성 test\n# UserID\nuserid = r.randint(0,100000000)\n\n# TouristSpotID\ntourid = r.choice(all_tour_id)\n\n# Timestamp\nnow = datetime.now()\nyear = now.year\nmonth = now.month\nday = now.day\nhour = r.randint(0, 23)\nminute = r.randint(0, 59)\nsecond = r.randint(0, 59)\ntimestamp = datetime(year, month, day, hour, minute, second)\n\n# Score\nscore = int(skewnorm(a, loc, scale).rvs(1)[0])\nif score > 100:\n    score = 100\nelif score < 0:\n    score = 0\n\nprint(f\"\"\"\nUserID: {userid}\nTouristSpotID: {tourid}\nTimestamp: {timestamp}\nScore: {score}\n\"\"\")",
      "metadata": {
        "trusted": true
      },
      "outputs": [
        {
          "name": "stdout",
          "text": "\nUserID: 97503432\nTouristSpotID: 2462827\nTimestamp: 2024-07-31 07:47:07\nScore: 65\n\n",
          "output_type": "stream"
        }
      ],
      "execution_count": 215
    },
    {
      "cell_type": "code",
      "source": "# 랜덤 리뷰 추가 test\ndf = pd.DataFrame(columns=['UserID', 'TouristSpotID', 'Timestamp', 'Score'])\ncreated_data = pd.DataFrame({\n    'UserID': [userid],\n    'TouristSpotID': [tourid],\n    'Timestamp': [timestamp],\n    'Score': [score]\n})\ncreate_data\ndf = pd.concat([df, created_data])\ndf",
      "metadata": {
        "trusted": true
      },
      "outputs": [
        {
          "execution_count": 242,
          "output_type": "execute_result",
          "data": {
            "text/plain": "     UserID TouristSpotID           Timestamp      Score\n0  54416781       2750916 2024-07-31 05:47:44  50.330531",
            "text/html": "<div>\n<style scoped>\n    .dataframe tbody tr th:only-of-type {\n        vertical-align: middle;\n    }\n\n    .dataframe tbody tr th {\n        vertical-align: top;\n    }\n\n    .dataframe thead th {\n        text-align: right;\n    }\n</style>\n<table border=\"1\" class=\"dataframe\">\n  <thead>\n    <tr style=\"text-align: right;\">\n      <th></th>\n      <th>UserID</th>\n      <th>TouristSpotID</th>\n      <th>Timestamp</th>\n      <th>Score</th>\n    </tr>\n  </thead>\n  <tbody>\n    <tr>\n      <th>0</th>\n      <td>54416781</td>\n      <td>2750916</td>\n      <td>2024-07-31 05:47:44</td>\n      <td>50.330531</td>\n    </tr>\n  </tbody>\n</table>\n</div>"
          },
          "metadata": {}
        }
      ],
      "execution_count": 242
    },
    {
      "cell_type": "code",
      "source": "# 최종 랜덤 리뷰 생성\ntoday_num_of_review = r.randint(500, 800)\n\nreview_df = pd.DataFrame(columns=['UserID', 'TouristSpotID', 'Timestamp', 'Score'])\nfor i in range(today_num_of_review):\n    # UserID\n    userid = r.randint(0,100000000)\n    \n    # TouristSpotID\n    all_tour_id = pd.concat([cf, fs, ls, ts])['contentid'].unique().tolist()\n    tourid = r.choice(all_tour_id)\n    \n    # Timestamp\n    now = datetime.now()\n    year = now.year\n    month = now.month\n    day = now.day\n    hour = r.randint(0, 23)\n    minute = r.randint(0, 59)\n    second = r.randint(0, 59)\n    timestamp = datetime(year, month, day, hour, minute, second)\n    \n    # Score\n    score = int(skewnorm(a, loc, scale).rvs(1)[0])\n    if score > 100:\n        score = 100\n    elif score < 0:\n        score = 0\n\n    # dataframe\n    review = pd.DataFrame({\n        'UserID': [userid],\n        'TouristSpotID': [tourid],\n        'Timestamp': [timestamp],\n        'Score': [score]\n    })\n    review_df = pd.concat([ review_df, review ])\n    \nreview_df = review_df.sort_values(by=['Timestamp'], axis=0).reset_index(drop=True)",
      "metadata": {
        "trusted": true
      },
      "outputs": [],
      "execution_count": 286
    },
    {
      "cell_type": "code",
      "source": "review_df",
      "metadata": {
        "trusted": true
      },
      "outputs": [
        {
          "execution_count": 287,
          "output_type": "execute_result",
          "data": {
            "text/plain": "       UserID TouristSpotID           Timestamp Score\n0    75738663        645791 2024-07-31 00:03:41    62\n1     2385835        130828 2024-07-31 00:05:15    64\n2    74716563        944855 2024-07-31 00:08:26    57\n3     3287229        753768 2024-07-31 00:11:31    45\n4    68961307        976598 2024-07-31 00:11:42    54\n..        ...           ...                 ...   ...\n734  67049736       3116497 2024-07-31 23:47:28    44\n735  84317943       2774286 2024-07-31 23:50:58    58\n736  60920113       2773265 2024-07-31 23:53:02    61\n737  39436608        126527 2024-07-31 23:54:48    67\n738  29238605       2678273 2024-07-31 23:58:49    61\n\n[739 rows x 4 columns]",
            "text/html": "<div>\n<style scoped>\n    .dataframe tbody tr th:only-of-type {\n        vertical-align: middle;\n    }\n\n    .dataframe tbody tr th {\n        vertical-align: top;\n    }\n\n    .dataframe thead th {\n        text-align: right;\n    }\n</style>\n<table border=\"1\" class=\"dataframe\">\n  <thead>\n    <tr style=\"text-align: right;\">\n      <th></th>\n      <th>UserID</th>\n      <th>TouristSpotID</th>\n      <th>Timestamp</th>\n      <th>Score</th>\n    </tr>\n  </thead>\n  <tbody>\n    <tr>\n      <th>0</th>\n      <td>75738663</td>\n      <td>645791</td>\n      <td>2024-07-31 00:03:41</td>\n      <td>62</td>\n    </tr>\n    <tr>\n      <th>1</th>\n      <td>2385835</td>\n      <td>130828</td>\n      <td>2024-07-31 00:05:15</td>\n      <td>64</td>\n    </tr>\n    <tr>\n      <th>2</th>\n      <td>74716563</td>\n      <td>944855</td>\n      <td>2024-07-31 00:08:26</td>\n      <td>57</td>\n    </tr>\n    <tr>\n      <th>3</th>\n      <td>3287229</td>\n      <td>753768</td>\n      <td>2024-07-31 00:11:31</td>\n      <td>45</td>\n    </tr>\n    <tr>\n      <th>4</th>\n      <td>68961307</td>\n      <td>976598</td>\n      <td>2024-07-31 00:11:42</td>\n      <td>54</td>\n    </tr>\n    <tr>\n      <th>...</th>\n      <td>...</td>\n      <td>...</td>\n      <td>...</td>\n      <td>...</td>\n    </tr>\n    <tr>\n      <th>734</th>\n      <td>67049736</td>\n      <td>3116497</td>\n      <td>2024-07-31 23:47:28</td>\n      <td>44</td>\n    </tr>\n    <tr>\n      <th>735</th>\n      <td>84317943</td>\n      <td>2774286</td>\n      <td>2024-07-31 23:50:58</td>\n      <td>58</td>\n    </tr>\n    <tr>\n      <th>736</th>\n      <td>60920113</td>\n      <td>2773265</td>\n      <td>2024-07-31 23:53:02</td>\n      <td>61</td>\n    </tr>\n    <tr>\n      <th>737</th>\n      <td>39436608</td>\n      <td>126527</td>\n      <td>2024-07-31 23:54:48</td>\n      <td>67</td>\n    </tr>\n    <tr>\n      <th>738</th>\n      <td>29238605</td>\n      <td>2678273</td>\n      <td>2024-07-31 23:58:49</td>\n      <td>61</td>\n    </tr>\n  </tbody>\n</table>\n<p>739 rows × 4 columns</p>\n</div>"
          },
          "metadata": {}
        }
      ],
      "execution_count": 287
    },
    {
      "cell_type": "code",
      "source": "",
      "metadata": {
        "trusted": true
      },
      "outputs": [],
      "execution_count": null
    }
  ]
}